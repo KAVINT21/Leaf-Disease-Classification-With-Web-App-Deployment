{
 "cells": [
  {
   "cell_type": "code",
   "execution_count": 1,
   "id": "44c55aa8",
   "metadata": {},
   "outputs": [],
   "source": [
    "import tensorflow as tf\n",
    "from tensorflow.keras.models import load_model\n",
    "\n",
    "# Load the model\n",
    "loaded_model = load_model('D:/Potato_Disease/potatoes.h5')\n",
    "\n",
    "# Use the loaded model for predictions"
   ]
  },
  {
   "cell_type": "code",
   "execution_count": 11,
   "id": "6f2768d5",
   "metadata": {},
   "outputs": [
    {
     "name": "stdout",
     "output_type": "stream",
     "text": [
      "1/1 [==============================] - 0s 94ms/step\n",
      "Predicted Class: [0]\n"
     ]
    }
   ],
   "source": [
    "import tensorflow as tf\n",
    "from tensorflow.keras.preprocessing import image\n",
    "from tensorflow.keras.applications.inception_v3 import preprocess_input, decode_predictions\n",
    "import numpy as np\n",
    "\n",
    "# Load your pre-trained model\n",
    "model_path = 'D:/Potato_Disease/potatoes.h5'  # Replace with the actual path to your .h5 file\n",
    "model = tf.keras.models.load_model(model_path)\n",
    "\n",
    "# Load and preprocess the input image\n",
    "image_path = \"D:/pot2.jpeg\"  # Replace with the actual path to your input image\n",
    "img = image.load_img(image_path, target_size=(256, 256))  # Adjust target_size according to your model's input size\n",
    "img_array = image.img_to_array(img)\n",
    "img_array = np.expand_dims(img_array, axis=0)\n",
    "img_array = preprocess_input(img_array)\n",
    "\n",
    "# Make predictions\n",
    "predictions = model.predict(img_array)\n",
    "\n",
    "predicted_class = np.argmax(predictions, axis=1)\n",
    "\n",
    "# Print the predicted class\n",
    "print(f\"Predicted Class: {predicted_class}\")\n"
   ]
  },
  {
   "cell_type": "code",
   "execution_count": 14,
   "id": "442883f6",
   "metadata": {},
   "outputs": [
    {
     "data": {
      "text/plain": [
       "array([[1.000000e+00, 2.441478e-25, 0.000000e+00]], dtype=float32)"
      ]
     },
     "execution_count": 14,
     "metadata": {},
     "output_type": "execute_result"
    }
   ],
   "source": [
    "predictions"
   ]
  },
  {
   "cell_type": "code",
   "execution_count": 12,
   "id": "abec5c52",
   "metadata": {},
   "outputs": [],
   "source": [
    "class_dict={\"Early_Blight\": 0, \"Late_Blight\": 1,\"Healthy\":2}\n",
    "import json\n",
    "with open(\"D://Potato_Disease//class_dictionary.json\",\"w\") as f:\n",
    "    f.write(json.dumps(class_dict))"
   ]
  },
  {
   "cell_type": "code",
   "execution_count": 1,
   "id": "07699cae",
   "metadata": {
    "scrolled": true
   },
   "outputs": [
    {
     "name": "stdout",
     "output_type": "stream",
     "text": [
      "Loading saved Artifacts...\n",
      "Loading Artifacts Done\n",
      "[[156 184 198 ... 157 154 150]\n",
      " [146 182 199 ... 161 154 150]\n",
      " [135 176 195 ... 165 161 155]\n",
      " ...\n",
      " [ 28  25  21 ... 179 175 173]\n",
      " [ 29  18  22 ... 177 172 169]\n",
      " [ 21  14  23 ... 172 167 161]]\n",
      "1/1 [==============================] - 0s 344ms/step\n",
      "[[0.12080115 0.7258798  0.153319  ]]\n",
      "[[0.12080115 0.7258798  0.153319  ]]\n",
      "[{'class': 'Late_Blight', 'class_probability': [12.08, 72.588, 15.332], 'class_dictionary': {'Early_Blight': 0, 'Late_Blight': 1, 'Healthy': 2}}]\n"
     ]
    }
   ],
   "source": [
    "import cv2\n",
    "\n",
    "import numpy as np\n",
    "import base64\n",
    "import json\n",
    "\n",
    "import tensorflow as tf\n",
    "from tensorflow.keras.models import load_model\n",
    "\n",
    "class_dict={\"Early_Blight\": 0, \"Late_Blight\": 1,\"Healthy\":2}\n",
    "\n",
    "__model=None\n",
    "def get_cv2_image_from_base64_string(b64str):\n",
    "    encoded_data=b64str.split(',')[1]\n",
    "    nparr=np.frombuffer(base64.b64decode(encoded_data),np.uint8)\n",
    "    img=cv2.imdecode(nparr,cv2.IMREAD_COLOR)\n",
    "    \n",
    "    return img\n",
    "\n",
    "\n",
    "\n",
    "def classify_image(image_base64_data, file_path=None):\n",
    "    imgs = cropped_image(file_path, image_base64_data)\n",
    "\n",
    "    result = []\n",
    "    x=[]\n",
    "    for img in imgs:\n",
    "        \n",
    "        \n",
    "        # Resize the image if necessary\n",
    "        resized_image = cv2.resize(img, (48, 48))\n",
    "\n",
    "        # Normalize the pixel values if necessary\n",
    "        normalized_image = resized_image / 255.0\n",
    "\n",
    "        # Reshape the image to match the expected input shape\n",
    "        reshaped_image = normalized_image.reshape((1, 48, 48, 1))\n",
    "\n",
    "        # Make predictions\n",
    "        predictions = __model.predict(reshaped_image)\n",
    "        print(predictions)\n",
    "        predicted_class = predictions.argmax()\n",
    "        for i in class_dict:\n",
    "            if(class_dict[i]==predicted_class):\n",
    "                predicted_text=i\n",
    "                break\n",
    "        \n",
    "\n",
    "        # Get the probability scores for each class\n",
    "        print(predictions)\n",
    "        probability_scores = predictions[0]\n",
    "        class_probabilities = [round(float(score),5)*100 for score in probability_scores]\n",
    "        \n",
    "        \n",
    "        result.append({\n",
    "            'class': predicted_text,\n",
    "            'class_probability': class_probabilities,\n",
    "            'class_dictionary': __class_name_to_number\n",
    "        })\n",
    "        \n",
    "        \n",
    "\n",
    "    return result\n",
    "    \n",
    "def class_number_to_name(class_num):\n",
    "    return __class_number_to_name[class_num]\n",
    "        \n",
    "\n",
    "def load_saved_artifacts():\n",
    "    print(\"Loading saved Artifacts...\")\n",
    "    \n",
    "    global __class_name_to_number\n",
    "    global __class_number_to_name\n",
    "    with open('D://Potato_Disease//class_dictionary.json',\"r\") as f:\n",
    "        __class_name_to_number=json.load(f)\n",
    "        __class_number_to_name={v:k for k,v in __class_name_to_number.items()}\n",
    "    global __model\n",
    "    if __model is None:\n",
    "        __model=load_model('D://Potato_Disease//POTATO.h5', compile=False)\n",
    "    print(\"Loading Artifacts Done\")\n",
    "    \n",
    "\n",
    "def cropped_image(image_path,image_base64_data):\n",
    "    if image_path:\n",
    "        img=cv2.imread(image_path)\n",
    "        img = cv2.cvtColor(img, cv2.COLOR_BGR2GRAY)\n",
    "    else:\n",
    "        img=get_cv2_image_from_base64_string(image_base64_data)\n",
    "        img = cv2.cvtColor(img, cv2.COLOR_BGR2GRAY)\n",
    "    \n",
    "        \n",
    "        \n",
    "\n",
    "    print(img)\n",
    "    return [img]\n",
    "     \n",
    "\n",
    "def get_b64_test_image():\n",
    "    with open(\"D:\\\\MLProject\\\\b64.txt\") as f:\n",
    "        return f.read()\n",
    "    \n",
    "if __name__==\"__main__\":\n",
    "    load_saved_artifacts()\n",
    "    print(classify_image(get_b64_test_image(),None))\n"
   ]
  },
  {
   "cell_type": "code",
   "execution_count": 2,
   "id": "5f71c8ba",
   "metadata": {},
   "outputs": [
    {
     "name": "stdout",
     "output_type": "stream",
     "text": [
      "Staring Python Flask Server.....\n",
      "Loading saved Artifacts...\n",
      "Loading Artifacts Done\n",
      " * Serving Flask app '__main__'\n",
      " * Debug mode: off\n"
     ]
    },
    {
     "name": "stderr",
     "output_type": "stream",
     "text": [
      "WARNING: This is a development server. Do not use it in a production deployment. Use a production WSGI server instead.\n",
      " * Running on http://127.0.0.1:5000\n",
      "Press CTRL+C to quit\n"
     ]
    },
    {
     "name": "stdout",
     "output_type": "stream",
     "text": [
      "[[183 183 183 ... 207 141 136]\n",
      " [184 183 183 ... 144 171 166]\n",
      " [182 182 181 ... 177 156 178]\n",
      " ...\n",
      " [137 142 146 ...  45  41  49]\n",
      " [138 141 143 ...  42  45  44]\n",
      " [140 140 140 ...  42  48  40]]\n",
      "1/1 [==============================] - 0s 41ms/step\n"
     ]
    },
    {
     "name": "stderr",
     "output_type": "stream",
     "text": [
      "127.0.0.1 - - [21/Dec/2023 19:59:02] \"POST /classify HTTP/1.1\" 200 -\n"
     ]
    },
    {
     "name": "stdout",
     "output_type": "stream",
     "text": [
      "[[0.12211379 0.7232494  0.15463679]]\n",
      "[[0.12211379 0.7232494  0.15463679]]\n",
      "result :  [{'class': 'Late_Blight', 'class_probability': [12.211, 72.32499999999999, 15.464], 'class_dictionary': {'Early_Blight': 0, 'Late_Blight': 1, 'Healthy': 2}}]\n",
      "<Response 146 bytes [200 OK]>\n"
     ]
    }
   ],
   "source": [
    "from flask import Flask, request, jsonify\n",
    "\n",
    "app = Flask(__name__)\n",
    "\n",
    "@app.route('/classify',methods=['GET','POST'])\n",
    "def classify():\n",
    "    image_data = request.form['image_data']\n",
    "    results = classify_image(image_data)\n",
    "    print(\"result : \",results)\n",
    "    response = jsonify(results)\n",
    "    response.headers.add('Access-Control-Allow-Origin', '*')\n",
    "    print(response)\n",
    "    return response\n",
    "    \n",
    "    \n",
    "    \n",
    "\n",
    "if __name__ == \"__main__\":\n",
    "    print(\"Staring Python Flask Server.....\")\n",
    "    load_saved_artifacts()\n",
    "\n",
    "    app.run(port=5000)"
   ]
  },
  {
   "cell_type": "code",
   "execution_count": null,
   "id": "a4489670",
   "metadata": {},
   "outputs": [],
   "source": []
  }
 ],
 "metadata": {
  "kernelspec": {
   "display_name": "Python 3 (ipykernel)",
   "language": "python",
   "name": "python3"
  },
  "language_info": {
   "codemirror_mode": {
    "name": "ipython",
    "version": 3
   },
   "file_extension": ".py",
   "mimetype": "text/x-python",
   "name": "python",
   "nbconvert_exporter": "python",
   "pygments_lexer": "ipython3",
   "version": "3.9.13"
  }
 },
 "nbformat": 4,
 "nbformat_minor": 5
}
